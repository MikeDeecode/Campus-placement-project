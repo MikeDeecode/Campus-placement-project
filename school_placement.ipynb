{
  "nbformat": 4,
  "nbformat_minor": 0,
  "metadata": {
    "colab": {
      "name": "school-placement.ipynb",
      "provenance": [],
      "collapsed_sections": [],
      "authorship_tag": "ABX9TyPgkvR2sruW1bN6TWoQdNGG",
      "include_colab_link": true
    },
    "kernelspec": {
      "name": "python3",
      "display_name": "Python 3"
    }
  },
  "cells": [
    {
      "cell_type": "markdown",
      "metadata": {
        "id": "view-in-github",
        "colab_type": "text"
      },
      "source": [
        "<a href=\"https://colab.research.google.com/github/MikeDeecode/Campus-placement-project/blob/master/school_placement.ipynb\" target=\"_parent\"><img src=\"https://colab.research.google.com/assets/colab-badge.svg\" alt=\"Open In Colab\"/></a>"
      ]
    },
    {
      "cell_type": "markdown",
      "metadata": {
        "id": "MHY57fhih4Qd",
        "colab_type": "text"
      },
      "source": [
        "# **MBA STUDENTS PLACEMENT AT THE JAIN UNIVERSITY BANGALORE** "
      ]
    },
    {
      "cell_type": "markdown",
      "metadata": {
        "id": "9XKDbih8y99v",
        "colab_type": "text"
      },
      "source": [
        "# Exploratory Analysis and Machine Learning on the Campus Placement Data"
      ]
    },
    {
      "cell_type": "markdown",
      "metadata": {
        "id": "Wz4TYWLnzOzP",
        "colab_type": "text"
      },
      "source": [
        "\n",
        "\n",
        "*   Exploratory Data Analysis\n",
        "*   Visualisation of analysed data \n",
        "*   Determining the characteristics affecting placement and salary\n",
        "*   Using Decision Tree classifier to determine the Status of a student\n",
        "*   Insights from the data\n",
        "\n",
        "Ride along.\n",
        "\n",
        "\n",
        "\n",
        "\n",
        "\n"
      ]
    },
    {
      "cell_type": "markdown",
      "metadata": {
        "id": "y4O915qX0GV_",
        "colab_type": "text"
      },
      "source": [
        "###**Description of the dataset**"
      ]
    },
    {
      "cell_type": "markdown",
      "metadata": {
        "id": "5Fku5ddT0S1T",
        "colab_type": "text"
      },
      "source": [
        "The dataset used for this project contains the data of students from **Jain University Bangalore**"
      ]
    },
    {
      "cell_type": "markdown",
      "metadata": {
        "id": "M0Op2asI0s5q",
        "colab_type": "text"
      },
      "source": [
        "There are 215 rows and 15 columns in this dataset "
      ]
    },
    {
      "cell_type": "markdown",
      "metadata": {
        "id": "3oofWqRe1Hzv",
        "colab_type": "text"
      },
      "source": [
        "The columns contained in the dataset are as follows:\n",
        "\n",
        "\n",
        "*   **sl_mo** - Serial number or index of the rows\n",
        "*   **gender** - Sex of the students in the dataset\n",
        "*   **ssc_p** - Secondary school percentage\n",
        "*   **ssc_b** - Secondary school board\n",
        "*   **hsc_p** - Higher secondary school percentage\n",
        "*   **hsc_b** - Higher secondary school board\n",
        "*   **hsc_s** - Higher secondary school specialisation\n",
        "*   **degree_p** - Degree percentage\n",
        "*   **degree_t** - Degree type\n",
        "*   **workex** - Work experience\n",
        "*   **etest_p** - Employability test percentage\n",
        "*   **specialisation** - MBA specialisation\n",
        "*   **mba_p** - MBA percentage\n",
        "*   **status** - Student's status(Placed or Not placed)\n",
        "*   **salary** - Salary expectation of students \n"
      ]
    },
    {
      "cell_type": "markdown",
      "metadata": {
        "id": "xt-rPvdIdCFL",
        "colab_type": "text"
      },
      "source": [
        "##**EXPLORATORY ANALYSIS (GETTINNG INSIGHTS AND DETERMINING FEATURES FROM THE DATA)**"
      ]
    },
    {
      "cell_type": "markdown",
      "metadata": {
        "id": "5pJBwTAUhoBd",
        "colab_type": "text"
      },
      "source": [
        "Import the needed libraries to perform out analysis"
      ]
    },
    {
      "cell_type": "code",
      "metadata": {
        "id": "koQnlm3uSYlz",
        "colab_type": "code",
        "outputId": "3a957f1c-7947-4862-d79a-d19c3f7f05d9",
        "colab": {
          "base_uri": "https://localhost:8080/",
          "height": 73
        }
      },
      "source": [
        "import numpy as np\n",
        "import pandas as pd \n",
        "import matplotlib.pyplot as plt\n",
        "import seaborn as sns \n",
        "%matplotlib inline "
      ],
      "execution_count": 0,
      "outputs": [
        {
          "output_type": "stream",
          "text": [
            "/usr/local/lib/python3.6/dist-packages/statsmodels/tools/_testing.py:19: FutureWarning: pandas.util.testing is deprecated. Use the functions in the public API at pandas.testing instead.\n",
            "  import pandas.util.testing as tm\n"
          ],
          "name": "stderr"
        }
      ]
    },
    {
      "cell_type": "code",
      "metadata": {
        "id": "tc1PU9KfS9wZ",
        "colab_type": "code",
        "outputId": "4cf4934b-2993-4b6d-b184-eecb37941db2",
        "colab": {
          "base_uri": "https://localhost:8080/",
          "height": 35
        }
      },
      "source": [
        "pment = pd.read_csv(\"/content/Placement_Data_(viz).csv\", index_col = 0)\n",
        "print (\"Successful\")"
      ],
      "execution_count": 0,
      "outputs": [
        {
          "output_type": "stream",
          "text": [
            "Successful\n"
          ],
          "name": "stdout"
        }
      ]
    },
    {
      "cell_type": "markdown",
      "metadata": {
        "id": "diaXle3piPRh",
        "colab_type": "text"
      },
      "source": [
        "Description of the columns in the dataset (where needed)"
      ]
    },
    {
      "cell_type": "markdown",
      "metadata": {
        "id": "JjMr4yaOkEs7",
        "colab_type": "text"
      },
      "source": [
        "Lets explore the data "
      ]
    },
    {
      "cell_type": "code",
      "metadata": {
        "id": "zupclYBOTyYf",
        "colab_type": "code",
        "outputId": "00ca2e05-c7fe-459b-f2d4-de74a01c51db",
        "colab": {
          "base_uri": "https://localhost:8080/",
          "height": 264
        }
      },
      "source": [
        "pment.head()"
      ],
      "execution_count": 0,
      "outputs": [
        {
          "output_type": "execute_result",
          "data": {
            "text/html": [
              "<div>\n",
              "<style scoped>\n",
              "    .dataframe tbody tr th:only-of-type {\n",
              "        vertical-align: middle;\n",
              "    }\n",
              "\n",
              "    .dataframe tbody tr th {\n",
              "        vertical-align: top;\n",
              "    }\n",
              "\n",
              "    .dataframe thead th {\n",
              "        text-align: right;\n",
              "    }\n",
              "</style>\n",
              "<table border=\"1\" class=\"dataframe\">\n",
              "  <thead>\n",
              "    <tr style=\"text-align: right;\">\n",
              "      <th></th>\n",
              "      <th>gender</th>\n",
              "      <th>ssc_p</th>\n",
              "      <th>ssc_b</th>\n",
              "      <th>hsc_p</th>\n",
              "      <th>hsc_b</th>\n",
              "      <th>hsc_s</th>\n",
              "      <th>degree_p</th>\n",
              "      <th>degree_t</th>\n",
              "      <th>workex</th>\n",
              "      <th>etest_p</th>\n",
              "      <th>specialisation</th>\n",
              "      <th>mba_p</th>\n",
              "      <th>status</th>\n",
              "      <th>salary</th>\n",
              "    </tr>\n",
              "    <tr>\n",
              "      <th>sl_no</th>\n",
              "      <th></th>\n",
              "      <th></th>\n",
              "      <th></th>\n",
              "      <th></th>\n",
              "      <th></th>\n",
              "      <th></th>\n",
              "      <th></th>\n",
              "      <th></th>\n",
              "      <th></th>\n",
              "      <th></th>\n",
              "      <th></th>\n",
              "      <th></th>\n",
              "      <th></th>\n",
              "      <th></th>\n",
              "    </tr>\n",
              "  </thead>\n",
              "  <tbody>\n",
              "    <tr>\n",
              "      <th>1</th>\n",
              "      <td>M</td>\n",
              "      <td>67.00</td>\n",
              "      <td>Others</td>\n",
              "      <td>91.00</td>\n",
              "      <td>Others</td>\n",
              "      <td>Commerce</td>\n",
              "      <td>58.00</td>\n",
              "      <td>Sci&amp;Tech</td>\n",
              "      <td>No</td>\n",
              "      <td>55.0</td>\n",
              "      <td>Mkt&amp;HR</td>\n",
              "      <td>58.80</td>\n",
              "      <td>Placed</td>\n",
              "      <td>270000.0</td>\n",
              "    </tr>\n",
              "    <tr>\n",
              "      <th>2</th>\n",
              "      <td>M</td>\n",
              "      <td>79.33</td>\n",
              "      <td>Central</td>\n",
              "      <td>78.33</td>\n",
              "      <td>Others</td>\n",
              "      <td>Science</td>\n",
              "      <td>77.48</td>\n",
              "      <td>Sci&amp;Tech</td>\n",
              "      <td>Yes</td>\n",
              "      <td>86.5</td>\n",
              "      <td>Mkt&amp;Fin</td>\n",
              "      <td>66.28</td>\n",
              "      <td>Placed</td>\n",
              "      <td>200000.0</td>\n",
              "    </tr>\n",
              "    <tr>\n",
              "      <th>3</th>\n",
              "      <td>M</td>\n",
              "      <td>65.00</td>\n",
              "      <td>Central</td>\n",
              "      <td>68.00</td>\n",
              "      <td>Central</td>\n",
              "      <td>Arts</td>\n",
              "      <td>64.00</td>\n",
              "      <td>Comm&amp;Mgmt</td>\n",
              "      <td>No</td>\n",
              "      <td>75.0</td>\n",
              "      <td>Mkt&amp;Fin</td>\n",
              "      <td>57.80</td>\n",
              "      <td>Placed</td>\n",
              "      <td>250000.0</td>\n",
              "    </tr>\n",
              "    <tr>\n",
              "      <th>4</th>\n",
              "      <td>M</td>\n",
              "      <td>56.00</td>\n",
              "      <td>Central</td>\n",
              "      <td>52.00</td>\n",
              "      <td>Central</td>\n",
              "      <td>Science</td>\n",
              "      <td>52.00</td>\n",
              "      <td>Sci&amp;Tech</td>\n",
              "      <td>No</td>\n",
              "      <td>66.0</td>\n",
              "      <td>Mkt&amp;HR</td>\n",
              "      <td>59.43</td>\n",
              "      <td>Not Placed</td>\n",
              "      <td>NaN</td>\n",
              "    </tr>\n",
              "    <tr>\n",
              "      <th>5</th>\n",
              "      <td>M</td>\n",
              "      <td>85.80</td>\n",
              "      <td>Central</td>\n",
              "      <td>73.60</td>\n",
              "      <td>Central</td>\n",
              "      <td>Commerce</td>\n",
              "      <td>73.30</td>\n",
              "      <td>Comm&amp;Mgmt</td>\n",
              "      <td>No</td>\n",
              "      <td>96.8</td>\n",
              "      <td>Mkt&amp;Fin</td>\n",
              "      <td>55.50</td>\n",
              "      <td>Placed</td>\n",
              "      <td>425000.0</td>\n",
              "    </tr>\n",
              "  </tbody>\n",
              "</table>\n",
              "</div>"
            ],
            "text/plain": [
              "      gender  ssc_p    ssc_b  hsc_p  ... specialisation  mba_p      status    salary\n",
              "sl_no                                ...                                            \n",
              "1          M  67.00   Others  91.00  ...         Mkt&HR  58.80      Placed  270000.0\n",
              "2          M  79.33  Central  78.33  ...        Mkt&Fin  66.28      Placed  200000.0\n",
              "3          M  65.00  Central  68.00  ...        Mkt&Fin  57.80      Placed  250000.0\n",
              "4          M  56.00  Central  52.00  ...         Mkt&HR  59.43  Not Placed       NaN\n",
              "5          M  85.80  Central  73.60  ...        Mkt&Fin  55.50      Placed  425000.0\n",
              "\n",
              "[5 rows x 14 columns]"
            ]
          },
          "metadata": {
            "tags": []
          },
          "execution_count": 5
        }
      ]
    },
    {
      "cell_type": "code",
      "metadata": {
        "id": "e7uF96t5T3b9",
        "colab_type": "code",
        "outputId": "c5089eea-04ed-4566-819b-20ed5ebb0c71",
        "colab": {
          "base_uri": "https://localhost:8080/",
          "height": 402
        }
      },
      "source": [
        "pment.info()"
      ],
      "execution_count": 0,
      "outputs": [
        {
          "output_type": "stream",
          "text": [
            "<class 'pandas.core.frame.DataFrame'>\n",
            "Int64Index: 215 entries, 1 to 215\n",
            "Data columns (total 14 columns):\n",
            " #   Column          Non-Null Count  Dtype  \n",
            "---  ------          --------------  -----  \n",
            " 0   gender          215 non-null    object \n",
            " 1   ssc_p           215 non-null    float64\n",
            " 2   ssc_b           215 non-null    object \n",
            " 3   hsc_p           215 non-null    float64\n",
            " 4   hsc_b           215 non-null    object \n",
            " 5   hsc_s           215 non-null    object \n",
            " 6   degree_p        215 non-null    float64\n",
            " 7   degree_t        215 non-null    object \n",
            " 8   workex          215 non-null    object \n",
            " 9   etest_p         215 non-null    float64\n",
            " 10  specialisation  215 non-null    object \n",
            " 11  mba_p           215 non-null    float64\n",
            " 12  status          215 non-null    object \n",
            " 13  salary          148 non-null    float64\n",
            "dtypes: float64(6), object(8)\n",
            "memory usage: 25.2+ KB\n"
          ],
          "name": "stdout"
        }
      ]
    },
    {
      "cell_type": "markdown",
      "metadata": {
        "id": "VGKC2j-YrHnL",
        "colab_type": "text"
      },
      "source": [
        "Here i filled the missing values in the salary column with 0 because the individuals with this salary have not been placed"
      ]
    },
    {
      "cell_type": "code",
      "metadata": {
        "id": "dlkG8FtmT973",
        "colab_type": "code",
        "colab": {}
      },
      "source": [
        "pment['salary'] = pment['salary'].fillna(0)"
      ],
      "execution_count": 0,
      "outputs": []
    },
    {
      "cell_type": "code",
      "metadata": {
        "id": "zgYX6z9NUREY",
        "colab_type": "code",
        "outputId": "c71480b9-ee07-4461-ca54-228c5e3d13ba",
        "colab": {
          "base_uri": "https://localhost:8080/",
          "height": 402
        }
      },
      "source": [
        "pment.info()"
      ],
      "execution_count": 0,
      "outputs": [
        {
          "output_type": "stream",
          "text": [
            "<class 'pandas.core.frame.DataFrame'>\n",
            "Int64Index: 215 entries, 1 to 215\n",
            "Data columns (total 14 columns):\n",
            " #   Column          Non-Null Count  Dtype  \n",
            "---  ------          --------------  -----  \n",
            " 0   gender          215 non-null    object \n",
            " 1   ssc_p           215 non-null    float64\n",
            " 2   ssc_b           215 non-null    object \n",
            " 3   hsc_p           215 non-null    float64\n",
            " 4   hsc_b           215 non-null    object \n",
            " 5   hsc_s           215 non-null    object \n",
            " 6   degree_p        215 non-null    float64\n",
            " 7   degree_t        215 non-null    object \n",
            " 8   workex          215 non-null    object \n",
            " 9   etest_p         215 non-null    float64\n",
            " 10  specialisation  215 non-null    object \n",
            " 11  mba_p           215 non-null    float64\n",
            " 12  status          215 non-null    object \n",
            " 13  salary          215 non-null    float64\n",
            "dtypes: float64(6), object(8)\n",
            "memory usage: 25.2+ KB\n"
          ],
          "name": "stdout"
        }
      ]
    },
    {
      "cell_type": "markdown",
      "metadata": {
        "id": "-AAnmBvGrT88",
        "colab_type": "text"
      },
      "source": [
        "This function was created to print the unique vlaues of each column"
      ]
    },
    {
      "cell_type": "code",
      "metadata": {
        "id": "8wlwXgkZUzZM",
        "colab_type": "code",
        "colab": {}
      },
      "source": [
        "def print_unique(field_v):\n",
        "  result = print (field_v.unique())\n",
        "  return result"
      ],
      "execution_count": 0,
      "outputs": []
    },
    {
      "cell_type": "code",
      "metadata": {
        "id": "wwZa34o2UhgX",
        "colab_type": "code",
        "outputId": "0bfad354-2dac-4c6e-b7d5-faf2296d1b25",
        "colab": {
          "base_uri": "https://localhost:8080/",
          "height": 127
        }
      },
      "source": [
        "print_unique(pment['ssc_b'])\n",
        "print_unique(pment['hsc_s'])\n",
        "print_unique(pment['degree_t'])\n",
        "print_unique(pment['gender'])\n",
        "print_unique(pment['status'])\n",
        "print_unique(pment['workex'])"
      ],
      "execution_count": 0,
      "outputs": [
        {
          "output_type": "stream",
          "text": [
            "['Others' 'Central']\n",
            "['Commerce' 'Science' 'Arts']\n",
            "['Sci&Tech' 'Comm&Mgmt' 'Others']\n",
            "['M' 'F']\n",
            "['Placed' 'Not Placed']\n",
            "['No' 'Yes']\n"
          ],
          "name": "stdout"
        }
      ]
    },
    {
      "cell_type": "markdown",
      "metadata": {
        "id": "WoCy1j1freCF",
        "colab_type": "text"
      },
      "source": [
        "I converted the columns that need to be converted into other types for my usage "
      ]
    },
    {
      "cell_type": "code",
      "metadata": {
        "id": "7Akp8i6fVzDN",
        "colab_type": "code",
        "colab": {}
      },
      "source": [
        "pment['ssc_b'] = pment['ssc_b'].astype(\"category\")\n",
        "pment['hsc_s'] = pment['hsc_s'].astype(\"category\")\n",
        "pment['degree_t'] = pment['degree_t'].astype(\"category\")\n",
        "pment['gender'] = pment['gender'].astype(\"category\")\n",
        "pment['status'] = pment['status'].astype(\"category\")\n",
        "pment['workex'] = pment['workex'].astype(\"category\")\n",
        "pment['salary'] = pment['salary'].astype('int')"
      ],
      "execution_count": 0,
      "outputs": []
    },
    {
      "cell_type": "code",
      "metadata": {
        "id": "aqSQBUt7XW91",
        "colab_type": "code",
        "outputId": "0d41c1dc-0600-4729-c8ed-fb591d39cdae",
        "colab": {
          "base_uri": "https://localhost:8080/",
          "height": 402
        }
      },
      "source": [
        "pment.info()"
      ],
      "execution_count": 0,
      "outputs": [
        {
          "output_type": "stream",
          "text": [
            "<class 'pandas.core.frame.DataFrame'>\n",
            "Int64Index: 215 entries, 1 to 215\n",
            "Data columns (total 14 columns):\n",
            " #   Column          Non-Null Count  Dtype   \n",
            "---  ------          --------------  -----   \n",
            " 0   gender          215 non-null    category\n",
            " 1   ssc_p           215 non-null    float64 \n",
            " 2   ssc_b           215 non-null    category\n",
            " 3   hsc_p           215 non-null    float64 \n",
            " 4   hsc_b           215 non-null    object  \n",
            " 5   hsc_s           215 non-null    category\n",
            " 6   degree_p        215 non-null    float64 \n",
            " 7   degree_t        215 non-null    category\n",
            " 8   workex          215 non-null    category\n",
            " 9   etest_p         215 non-null    float64 \n",
            " 10  specialisation  215 non-null    object  \n",
            " 11  mba_p           215 non-null    float64 \n",
            " 12  status          215 non-null    category\n",
            " 13  salary          215 non-null    int64   \n",
            "dtypes: category(6), float64(5), int64(1), object(2)\n",
            "memory usage: 17.0+ KB\n"
          ],
          "name": "stdout"
        }
      ]
    },
    {
      "cell_type": "code",
      "metadata": {
        "id": "dlJnRA8NUygZ",
        "colab_type": "code",
        "outputId": "b190c2b1-2477-4a6d-a59f-9276bf9b2a17",
        "colab": {
          "base_uri": "https://localhost:8080/",
          "height": 287
        }
      },
      "source": [
        "pment.describe()"
      ],
      "execution_count": 0,
      "outputs": [
        {
          "output_type": "execute_result",
          "data": {
            "text/html": [
              "<div>\n",
              "<style scoped>\n",
              "    .dataframe tbody tr th:only-of-type {\n",
              "        vertical-align: middle;\n",
              "    }\n",
              "\n",
              "    .dataframe tbody tr th {\n",
              "        vertical-align: top;\n",
              "    }\n",
              "\n",
              "    .dataframe thead th {\n",
              "        text-align: right;\n",
              "    }\n",
              "</style>\n",
              "<table border=\"1\" class=\"dataframe\">\n",
              "  <thead>\n",
              "    <tr style=\"text-align: right;\">\n",
              "      <th></th>\n",
              "      <th>ssc_p</th>\n",
              "      <th>hsc_p</th>\n",
              "      <th>degree_p</th>\n",
              "      <th>etest_p</th>\n",
              "      <th>mba_p</th>\n",
              "      <th>salary</th>\n",
              "    </tr>\n",
              "  </thead>\n",
              "  <tbody>\n",
              "    <tr>\n",
              "      <th>count</th>\n",
              "      <td>215.000000</td>\n",
              "      <td>215.000000</td>\n",
              "      <td>215.000000</td>\n",
              "      <td>215.000000</td>\n",
              "      <td>215.000000</td>\n",
              "      <td>215.000000</td>\n",
              "    </tr>\n",
              "    <tr>\n",
              "      <th>mean</th>\n",
              "      <td>67.303395</td>\n",
              "      <td>66.333163</td>\n",
              "      <td>66.370186</td>\n",
              "      <td>72.100558</td>\n",
              "      <td>62.278186</td>\n",
              "      <td>198702.325581</td>\n",
              "    </tr>\n",
              "    <tr>\n",
              "      <th>std</th>\n",
              "      <td>10.827205</td>\n",
              "      <td>10.897509</td>\n",
              "      <td>7.358743</td>\n",
              "      <td>13.275956</td>\n",
              "      <td>5.833385</td>\n",
              "      <td>154780.926716</td>\n",
              "    </tr>\n",
              "    <tr>\n",
              "      <th>min</th>\n",
              "      <td>40.890000</td>\n",
              "      <td>37.000000</td>\n",
              "      <td>50.000000</td>\n",
              "      <td>50.000000</td>\n",
              "      <td>51.210000</td>\n",
              "      <td>0.000000</td>\n",
              "    </tr>\n",
              "    <tr>\n",
              "      <th>25%</th>\n",
              "      <td>60.600000</td>\n",
              "      <td>60.900000</td>\n",
              "      <td>61.000000</td>\n",
              "      <td>60.000000</td>\n",
              "      <td>57.945000</td>\n",
              "      <td>0.000000</td>\n",
              "    </tr>\n",
              "    <tr>\n",
              "      <th>50%</th>\n",
              "      <td>67.000000</td>\n",
              "      <td>65.000000</td>\n",
              "      <td>66.000000</td>\n",
              "      <td>71.000000</td>\n",
              "      <td>62.000000</td>\n",
              "      <td>240000.000000</td>\n",
              "    </tr>\n",
              "    <tr>\n",
              "      <th>75%</th>\n",
              "      <td>75.700000</td>\n",
              "      <td>73.000000</td>\n",
              "      <td>72.000000</td>\n",
              "      <td>83.500000</td>\n",
              "      <td>66.255000</td>\n",
              "      <td>282500.000000</td>\n",
              "    </tr>\n",
              "    <tr>\n",
              "      <th>max</th>\n",
              "      <td>89.400000</td>\n",
              "      <td>97.700000</td>\n",
              "      <td>91.000000</td>\n",
              "      <td>98.000000</td>\n",
              "      <td>77.890000</td>\n",
              "      <td>940000.000000</td>\n",
              "    </tr>\n",
              "  </tbody>\n",
              "</table>\n",
              "</div>"
            ],
            "text/plain": [
              "            ssc_p       hsc_p  ...       mba_p         salary\n",
              "count  215.000000  215.000000  ...  215.000000     215.000000\n",
              "mean    67.303395   66.333163  ...   62.278186  198702.325581\n",
              "std     10.827205   10.897509  ...    5.833385  154780.926716\n",
              "min     40.890000   37.000000  ...   51.210000       0.000000\n",
              "25%     60.600000   60.900000  ...   57.945000       0.000000\n",
              "50%     67.000000   65.000000  ...   62.000000  240000.000000\n",
              "75%     75.700000   73.000000  ...   66.255000  282500.000000\n",
              "max     89.400000   97.700000  ...   77.890000  940000.000000\n",
              "\n",
              "[8 rows x 6 columns]"
            ]
          },
          "metadata": {
            "tags": []
          },
          "execution_count": 13
        }
      ]
    },
    {
      "cell_type": "code",
      "metadata": {
        "id": "l9tSNW5dU7nf",
        "colab_type": "code",
        "outputId": "c901016c-4c51-43b3-8904-790087b0a0cb",
        "colab": {
          "base_uri": "https://localhost:8080/",
          "height": 397
        }
      },
      "source": [
        "pment.describe(include ='all')"
      ],
      "execution_count": 0,
      "outputs": [
        {
          "output_type": "execute_result",
          "data": {
            "text/html": [
              "<div>\n",
              "<style scoped>\n",
              "    .dataframe tbody tr th:only-of-type {\n",
              "        vertical-align: middle;\n",
              "    }\n",
              "\n",
              "    .dataframe tbody tr th {\n",
              "        vertical-align: top;\n",
              "    }\n",
              "\n",
              "    .dataframe thead th {\n",
              "        text-align: right;\n",
              "    }\n",
              "</style>\n",
              "<table border=\"1\" class=\"dataframe\">\n",
              "  <thead>\n",
              "    <tr style=\"text-align: right;\">\n",
              "      <th></th>\n",
              "      <th>gender</th>\n",
              "      <th>ssc_p</th>\n",
              "      <th>ssc_b</th>\n",
              "      <th>hsc_p</th>\n",
              "      <th>hsc_b</th>\n",
              "      <th>hsc_s</th>\n",
              "      <th>degree_p</th>\n",
              "      <th>degree_t</th>\n",
              "      <th>workex</th>\n",
              "      <th>etest_p</th>\n",
              "      <th>specialisation</th>\n",
              "      <th>mba_p</th>\n",
              "      <th>status</th>\n",
              "      <th>salary</th>\n",
              "    </tr>\n",
              "  </thead>\n",
              "  <tbody>\n",
              "    <tr>\n",
              "      <th>count</th>\n",
              "      <td>215</td>\n",
              "      <td>215.000000</td>\n",
              "      <td>215</td>\n",
              "      <td>215.000000</td>\n",
              "      <td>215</td>\n",
              "      <td>215</td>\n",
              "      <td>215.000000</td>\n",
              "      <td>215</td>\n",
              "      <td>215</td>\n",
              "      <td>215.000000</td>\n",
              "      <td>215</td>\n",
              "      <td>215.000000</td>\n",
              "      <td>215</td>\n",
              "      <td>215.000000</td>\n",
              "    </tr>\n",
              "    <tr>\n",
              "      <th>unique</th>\n",
              "      <td>2</td>\n",
              "      <td>NaN</td>\n",
              "      <td>2</td>\n",
              "      <td>NaN</td>\n",
              "      <td>2</td>\n",
              "      <td>3</td>\n",
              "      <td>NaN</td>\n",
              "      <td>3</td>\n",
              "      <td>2</td>\n",
              "      <td>NaN</td>\n",
              "      <td>2</td>\n",
              "      <td>NaN</td>\n",
              "      <td>2</td>\n",
              "      <td>NaN</td>\n",
              "    </tr>\n",
              "    <tr>\n",
              "      <th>top</th>\n",
              "      <td>M</td>\n",
              "      <td>NaN</td>\n",
              "      <td>Central</td>\n",
              "      <td>NaN</td>\n",
              "      <td>Others</td>\n",
              "      <td>Commerce</td>\n",
              "      <td>NaN</td>\n",
              "      <td>Comm&amp;Mgmt</td>\n",
              "      <td>No</td>\n",
              "      <td>NaN</td>\n",
              "      <td>Mkt&amp;Fin</td>\n",
              "      <td>NaN</td>\n",
              "      <td>Placed</td>\n",
              "      <td>NaN</td>\n",
              "    </tr>\n",
              "    <tr>\n",
              "      <th>freq</th>\n",
              "      <td>139</td>\n",
              "      <td>NaN</td>\n",
              "      <td>116</td>\n",
              "      <td>NaN</td>\n",
              "      <td>131</td>\n",
              "      <td>113</td>\n",
              "      <td>NaN</td>\n",
              "      <td>145</td>\n",
              "      <td>141</td>\n",
              "      <td>NaN</td>\n",
              "      <td>120</td>\n",
              "      <td>NaN</td>\n",
              "      <td>148</td>\n",
              "      <td>NaN</td>\n",
              "    </tr>\n",
              "    <tr>\n",
              "      <th>mean</th>\n",
              "      <td>NaN</td>\n",
              "      <td>67.303395</td>\n",
              "      <td>NaN</td>\n",
              "      <td>66.333163</td>\n",
              "      <td>NaN</td>\n",
              "      <td>NaN</td>\n",
              "      <td>66.370186</td>\n",
              "      <td>NaN</td>\n",
              "      <td>NaN</td>\n",
              "      <td>72.100558</td>\n",
              "      <td>NaN</td>\n",
              "      <td>62.278186</td>\n",
              "      <td>NaN</td>\n",
              "      <td>198702.325581</td>\n",
              "    </tr>\n",
              "    <tr>\n",
              "      <th>std</th>\n",
              "      <td>NaN</td>\n",
              "      <td>10.827205</td>\n",
              "      <td>NaN</td>\n",
              "      <td>10.897509</td>\n",
              "      <td>NaN</td>\n",
              "      <td>NaN</td>\n",
              "      <td>7.358743</td>\n",
              "      <td>NaN</td>\n",
              "      <td>NaN</td>\n",
              "      <td>13.275956</td>\n",
              "      <td>NaN</td>\n",
              "      <td>5.833385</td>\n",
              "      <td>NaN</td>\n",
              "      <td>154780.926716</td>\n",
              "    </tr>\n",
              "    <tr>\n",
              "      <th>min</th>\n",
              "      <td>NaN</td>\n",
              "      <td>40.890000</td>\n",
              "      <td>NaN</td>\n",
              "      <td>37.000000</td>\n",
              "      <td>NaN</td>\n",
              "      <td>NaN</td>\n",
              "      <td>50.000000</td>\n",
              "      <td>NaN</td>\n",
              "      <td>NaN</td>\n",
              "      <td>50.000000</td>\n",
              "      <td>NaN</td>\n",
              "      <td>51.210000</td>\n",
              "      <td>NaN</td>\n",
              "      <td>0.000000</td>\n",
              "    </tr>\n",
              "    <tr>\n",
              "      <th>25%</th>\n",
              "      <td>NaN</td>\n",
              "      <td>60.600000</td>\n",
              "      <td>NaN</td>\n",
              "      <td>60.900000</td>\n",
              "      <td>NaN</td>\n",
              "      <td>NaN</td>\n",
              "      <td>61.000000</td>\n",
              "      <td>NaN</td>\n",
              "      <td>NaN</td>\n",
              "      <td>60.000000</td>\n",
              "      <td>NaN</td>\n",
              "      <td>57.945000</td>\n",
              "      <td>NaN</td>\n",
              "      <td>0.000000</td>\n",
              "    </tr>\n",
              "    <tr>\n",
              "      <th>50%</th>\n",
              "      <td>NaN</td>\n",
              "      <td>67.000000</td>\n",
              "      <td>NaN</td>\n",
              "      <td>65.000000</td>\n",
              "      <td>NaN</td>\n",
              "      <td>NaN</td>\n",
              "      <td>66.000000</td>\n",
              "      <td>NaN</td>\n",
              "      <td>NaN</td>\n",
              "      <td>71.000000</td>\n",
              "      <td>NaN</td>\n",
              "      <td>62.000000</td>\n",
              "      <td>NaN</td>\n",
              "      <td>240000.000000</td>\n",
              "    </tr>\n",
              "    <tr>\n",
              "      <th>75%</th>\n",
              "      <td>NaN</td>\n",
              "      <td>75.700000</td>\n",
              "      <td>NaN</td>\n",
              "      <td>73.000000</td>\n",
              "      <td>NaN</td>\n",
              "      <td>NaN</td>\n",
              "      <td>72.000000</td>\n",
              "      <td>NaN</td>\n",
              "      <td>NaN</td>\n",
              "      <td>83.500000</td>\n",
              "      <td>NaN</td>\n",
              "      <td>66.255000</td>\n",
              "      <td>NaN</td>\n",
              "      <td>282500.000000</td>\n",
              "    </tr>\n",
              "    <tr>\n",
              "      <th>max</th>\n",
              "      <td>NaN</td>\n",
              "      <td>89.400000</td>\n",
              "      <td>NaN</td>\n",
              "      <td>97.700000</td>\n",
              "      <td>NaN</td>\n",
              "      <td>NaN</td>\n",
              "      <td>91.000000</td>\n",
              "      <td>NaN</td>\n",
              "      <td>NaN</td>\n",
              "      <td>98.000000</td>\n",
              "      <td>NaN</td>\n",
              "      <td>77.890000</td>\n",
              "      <td>NaN</td>\n",
              "      <td>940000.000000</td>\n",
              "    </tr>\n",
              "  </tbody>\n",
              "</table>\n",
              "</div>"
            ],
            "text/plain": [
              "       gender       ssc_p    ssc_b  ...       mba_p  status         salary\n",
              "count     215  215.000000      215  ...  215.000000     215     215.000000\n",
              "unique      2         NaN        2  ...         NaN       2            NaN\n",
              "top         M         NaN  Central  ...         NaN  Placed            NaN\n",
              "freq      139         NaN      116  ...         NaN     148            NaN\n",
              "mean      NaN   67.303395      NaN  ...   62.278186     NaN  198702.325581\n",
              "std       NaN   10.827205      NaN  ...    5.833385     NaN  154780.926716\n",
              "min       NaN   40.890000      NaN  ...   51.210000     NaN       0.000000\n",
              "25%       NaN   60.600000      NaN  ...   57.945000     NaN       0.000000\n",
              "50%       NaN   67.000000      NaN  ...   62.000000     NaN  240000.000000\n",
              "75%       NaN   75.700000      NaN  ...   66.255000     NaN  282500.000000\n",
              "max       NaN   89.400000      NaN  ...   77.890000     NaN  940000.000000\n",
              "\n",
              "[11 rows x 14 columns]"
            ]
          },
          "metadata": {
            "tags": []
          },
          "execution_count": 14
        }
      ]
    },
    {
      "cell_type": "code",
      "metadata": {
        "id": "zEnxkIr0X1yX",
        "colab_type": "code",
        "outputId": "2a73a0de-991a-412d-efe5-e08e53611654",
        "colab": {
          "base_uri": "https://localhost:8080/",
          "height": 264
        }
      },
      "source": [
        "pment.head()"
      ],
      "execution_count": 0,
      "outputs": [
        {
          "output_type": "execute_result",
          "data": {
            "text/html": [
              "<div>\n",
              "<style scoped>\n",
              "    .dataframe tbody tr th:only-of-type {\n",
              "        vertical-align: middle;\n",
              "    }\n",
              "\n",
              "    .dataframe tbody tr th {\n",
              "        vertical-align: top;\n",
              "    }\n",
              "\n",
              "    .dataframe thead th {\n",
              "        text-align: right;\n",
              "    }\n",
              "</style>\n",
              "<table border=\"1\" class=\"dataframe\">\n",
              "  <thead>\n",
              "    <tr style=\"text-align: right;\">\n",
              "      <th></th>\n",
              "      <th>gender</th>\n",
              "      <th>ssc_p</th>\n",
              "      <th>ssc_b</th>\n",
              "      <th>hsc_p</th>\n",
              "      <th>hsc_b</th>\n",
              "      <th>hsc_s</th>\n",
              "      <th>degree_p</th>\n",
              "      <th>degree_t</th>\n",
              "      <th>workex</th>\n",
              "      <th>etest_p</th>\n",
              "      <th>specialisation</th>\n",
              "      <th>mba_p</th>\n",
              "      <th>status</th>\n",
              "      <th>salary</th>\n",
              "    </tr>\n",
              "    <tr>\n",
              "      <th>sl_no</th>\n",
              "      <th></th>\n",
              "      <th></th>\n",
              "      <th></th>\n",
              "      <th></th>\n",
              "      <th></th>\n",
              "      <th></th>\n",
              "      <th></th>\n",
              "      <th></th>\n",
              "      <th></th>\n",
              "      <th></th>\n",
              "      <th></th>\n",
              "      <th></th>\n",
              "      <th></th>\n",
              "      <th></th>\n",
              "    </tr>\n",
              "  </thead>\n",
              "  <tbody>\n",
              "    <tr>\n",
              "      <th>1</th>\n",
              "      <td>M</td>\n",
              "      <td>67.00</td>\n",
              "      <td>Others</td>\n",
              "      <td>91.00</td>\n",
              "      <td>Others</td>\n",
              "      <td>Commerce</td>\n",
              "      <td>58.00</td>\n",
              "      <td>Sci&amp;Tech</td>\n",
              "      <td>No</td>\n",
              "      <td>55.0</td>\n",
              "      <td>Mkt&amp;HR</td>\n",
              "      <td>58.80</td>\n",
              "      <td>Placed</td>\n",
              "      <td>270000</td>\n",
              "    </tr>\n",
              "    <tr>\n",
              "      <th>2</th>\n",
              "      <td>M</td>\n",
              "      <td>79.33</td>\n",
              "      <td>Central</td>\n",
              "      <td>78.33</td>\n",
              "      <td>Others</td>\n",
              "      <td>Science</td>\n",
              "      <td>77.48</td>\n",
              "      <td>Sci&amp;Tech</td>\n",
              "      <td>Yes</td>\n",
              "      <td>86.5</td>\n",
              "      <td>Mkt&amp;Fin</td>\n",
              "      <td>66.28</td>\n",
              "      <td>Placed</td>\n",
              "      <td>200000</td>\n",
              "    </tr>\n",
              "    <tr>\n",
              "      <th>3</th>\n",
              "      <td>M</td>\n",
              "      <td>65.00</td>\n",
              "      <td>Central</td>\n",
              "      <td>68.00</td>\n",
              "      <td>Central</td>\n",
              "      <td>Arts</td>\n",
              "      <td>64.00</td>\n",
              "      <td>Comm&amp;Mgmt</td>\n",
              "      <td>No</td>\n",
              "      <td>75.0</td>\n",
              "      <td>Mkt&amp;Fin</td>\n",
              "      <td>57.80</td>\n",
              "      <td>Placed</td>\n",
              "      <td>250000</td>\n",
              "    </tr>\n",
              "    <tr>\n",
              "      <th>4</th>\n",
              "      <td>M</td>\n",
              "      <td>56.00</td>\n",
              "      <td>Central</td>\n",
              "      <td>52.00</td>\n",
              "      <td>Central</td>\n",
              "      <td>Science</td>\n",
              "      <td>52.00</td>\n",
              "      <td>Sci&amp;Tech</td>\n",
              "      <td>No</td>\n",
              "      <td>66.0</td>\n",
              "      <td>Mkt&amp;HR</td>\n",
              "      <td>59.43</td>\n",
              "      <td>Not Placed</td>\n",
              "      <td>0</td>\n",
              "    </tr>\n",
              "    <tr>\n",
              "      <th>5</th>\n",
              "      <td>M</td>\n",
              "      <td>85.80</td>\n",
              "      <td>Central</td>\n",
              "      <td>73.60</td>\n",
              "      <td>Central</td>\n",
              "      <td>Commerce</td>\n",
              "      <td>73.30</td>\n",
              "      <td>Comm&amp;Mgmt</td>\n",
              "      <td>No</td>\n",
              "      <td>96.8</td>\n",
              "      <td>Mkt&amp;Fin</td>\n",
              "      <td>55.50</td>\n",
              "      <td>Placed</td>\n",
              "      <td>425000</td>\n",
              "    </tr>\n",
              "  </tbody>\n",
              "</table>\n",
              "</div>"
            ],
            "text/plain": [
              "      gender  ssc_p    ssc_b  hsc_p  ... specialisation  mba_p      status  salary\n",
              "sl_no                                ...                                          \n",
              "1          M  67.00   Others  91.00  ...         Mkt&HR  58.80      Placed  270000\n",
              "2          M  79.33  Central  78.33  ...        Mkt&Fin  66.28      Placed  200000\n",
              "3          M  65.00  Central  68.00  ...        Mkt&Fin  57.80      Placed  250000\n",
              "4          M  56.00  Central  52.00  ...         Mkt&HR  59.43  Not Placed       0\n",
              "5          M  85.80  Central  73.60  ...        Mkt&Fin  55.50      Placed  425000\n",
              "\n",
              "[5 rows x 14 columns]"
            ]
          },
          "metadata": {
            "tags": []
          },
          "execution_count": 15
        }
      ]
    },
    {
      "cell_type": "markdown",
      "metadata": {
        "id": "PwkXJFq_roYg",
        "colab_type": "text"
      },
      "source": [
        "### ANALYSIS OF THE DATA"
      ]
    },
    {
      "cell_type": "code",
      "metadata": {
        "id": "8bO7enbupfE0",
        "colab_type": "code",
        "outputId": "a31e3e21-36f5-4a68-f507-499b24b04ddd",
        "colab": {
          "base_uri": "https://localhost:8080/",
          "height": 90
        }
      },
      "source": [
        "print(\"NNUMBERS BY GENDER\")\n",
        "pment['gender'].value_counts()"
      ],
      "execution_count": 0,
      "outputs": [
        {
          "output_type": "stream",
          "text": [
            "NNUMBERS BY GENDER\n"
          ],
          "name": "stdout"
        },
        {
          "output_type": "execute_result",
          "data": {
            "text/plain": [
              "M    139\n",
              "F     76\n",
              "Name: gender, dtype: int64"
            ]
          },
          "metadata": {
            "tags": []
          },
          "execution_count": 29
        }
      ]
    },
    {
      "cell_type": "code",
      "metadata": {
        "id": "nV8JDBwxpl2e",
        "colab_type": "code",
        "outputId": "6a120362-4b50-455f-b1aa-12b3145c0ff7",
        "colab": {
          "base_uri": "https://localhost:8080/",
          "height": 264
        }
      },
      "source": [
        "labels = 'Male', 'Female'\n",
        "sizes = [139, 76]\n",
        "explode = (0.1, 0)\n",
        "\n",
        "fig1, ax1 = plt.subplots()\n",
        "ax1.pie(sizes, labels = labels, explode = explode, autopct = '%1.1f%%', shadow = True, startangle = 90)\n",
        "ax1.axis('equal')\n",
        "plt.title(\"PIE CHART SHOWING THE GENDER PERCENTAGE OF STUDENTS\")\n",
        "plt.show()"
      ],
      "execution_count": 0,
      "outputs": [
        {
          "output_type": "display_data",
          "data": {
            "image/png": "[encoded data removed]",
            "text/plain": [
              "<Figure size 432x288 with 1 Axes>"
            ]
          },
          "metadata": {
            "tags": []
          }
        }
      ]
    },
    {
      "cell_type": "code",
      "metadata": {
        "id": "qvrKFXgQr97i",
        "colab_type": "code",
        "outputId": "495a59ce-d059-4fe2-efe7-67dce012f4a3",
        "colab": {
          "base_uri": "https://localhost:8080/",
          "height": 90
        }
      },
      "source": [
        "print(\"NUMBERS BY STATUS\")\n",
        "pment['status'].value_counts()"
      ],
      "execution_count": 0,
      "outputs": [
        {
          "output_type": "stream",
          "text": [
            "NUMBERS BY STATUS\n"
          ],
          "name": "stdout"
        },
        {
          "output_type": "execute_result",
          "data": {
            "text/plain": [
              "Placed        148\n",
              "Not Placed     67\n",
              "Name: status, dtype: int64"
            ]
          },
          "metadata": {
            "tags": []
          },
          "execution_count": 30
        }
      ]
    },
    {
      "cell_type": "code",
      "metadata": {
        "id": "MEMwbOtdtLkQ",
        "colab_type": "code",
        "outputId": "431e5712-e83b-42df-ed0f-87323c870722",
        "colab": {
          "base_uri": "https://localhost:8080/",
          "height": 264
        }
      },
      "source": [
        "labels = 'Placed', 'Not Placed'\n",
        "sizes = [148, 67]\n",
        "explode = (0, 0.1)\n",
        "\n",
        "fig1,ax2 = plt.subplots()\n",
        "ax2.pie(sizes, labels = labels, explode = explode, autopct = '%1.1f%%', shadow = True, startangle = 90)\n",
        "ax2.axis('equal')\n",
        "plt.title(\"PIE CHART SHOWING THE STATUS PERCENTAGE OF STUDENTS\")\n",
        "plt.show()"
      ],
      "execution_count": 0,
      "outputs": [
        {
          "output_type": "display_data",
          "data": {
            "image/png": "[encoded data removed]",
            "text/plain": [
              "<Figure size 432x288 with 1 Axes>"
            ]
          },
          "metadata": {
            "tags": []
          }
        }
      ]
    },
    {
      "cell_type": "code",
      "metadata": {
        "id": "ZbN7-uLRyhkL",
        "colab_type": "code",
        "outputId": "47ac3fe3-f8df-43d4-a28e-b61ff8ce44fa",
        "colab": {
          "base_uri": "https://localhost:8080/",
          "height": 108
        }
      },
      "source": [
        "print(\"NUMBERS BY SPECIALISATION IN HIGHER SECONDARY SCHOOL\")\n",
        "pment['hsc_s'].value_counts()"
      ],
      "execution_count": 0,
      "outputs": [
        {
          "output_type": "stream",
          "text": [
            "NUMBERS BY SPECIALISATION IN HIGHER SECONDARY SCHOOL\n"
          ],
          "name": "stdout"
        },
        {
          "output_type": "execute_result",
          "data": {
            "text/plain": [
              "Commerce    113\n",
              "Science      91\n",
              "Arts         11\n",
              "Name: hsc_s, dtype: int64"
            ]
          },
          "metadata": {
            "tags": []
          },
          "execution_count": 31
        }
      ]
    },
    {
      "cell_type": "code",
      "metadata": {
        "id": "AQjDAkUSy1df",
        "colab_type": "code",
        "outputId": "6a409579-4bc0-4af5-a249-ed675f708bee",
        "colab": {
          "base_uri": "https://localhost:8080/",
          "height": 264
        }
      },
      "source": [
        "labels = 'Commerce', 'Science', 'Arts'\n",
        "sizes = [113, 91, 11]\n",
        "\n",
        "fig3, ax3 = plt.subplots()\n",
        "ax3.pie(sizes, labels = labels, autopct = '%1.1f%%', shadow = True, startangle = 90)\n",
        "ax3.axis('equal')\n",
        "plt.title(\"PIE CHART SHOWING THE HIGHER SECONDARY EDUCATION SPECIASATION\")\n",
        "plt.show()"
      ],
      "execution_count": 0,
      "outputs": [
        {
          "output_type": "display_data",
          "data": {
            "image/png": "[encoded data removed]",
            "text/plain": [
              "<Figure size 432x288 with 1 Axes>"
            ]
          },
          "metadata": {
            "tags": []
          }
        }
      ]
    },
    {
      "cell_type": "code",
      "metadata": {
        "id": "6KJsy5P6zWJO",
        "colab_type": "code",
        "outputId": "9bb30f21-b9d2-4fc4-beb5-91dd44313eab",
        "colab": {
          "base_uri": "https://localhost:8080/",
          "height": 108
        }
      },
      "source": [
        "print(\"NUMBERS BY UNIVERSITY DEGREE\")\n",
        "pment['degree_t'].value_counts()"
      ],
      "execution_count": 0,
      "outputs": [
        {
          "output_type": "stream",
          "text": [
            "NUMBERS BY UNIVERSITY DEGREE\n"
          ],
          "name": "stdout"
        },
        {
          "output_type": "execute_result",
          "data": {
            "text/plain": [
              "Comm&Mgmt    145\n",
              "Sci&Tech      59\n",
              "Others        11\n",
              "Name: degree_t, dtype: int64"
            ]
          },
          "metadata": {
            "tags": []
          },
          "execution_count": 34
        }
      ]
    },
    {
      "cell_type": "code",
      "metadata": {
        "id": "ynlYAvWW0Ywf",
        "colab_type": "code",
        "outputId": "ed7910d3-415d-4757-ea5f-a07e89632f6a",
        "colab": {
          "base_uri": "https://localhost:8080/",
          "height": 281
        }
      },
      "source": [
        "plt.figure()\n",
        "data = pment['degree_t']\n",
        "bins = (len(pment['degree_t'].unique()))\n",
        "plt.hist(data, bins = bins, color = 'steelblue')\n",
        "plt.title(\"HISTOGRAM SHOWING THE DISTRIBUTION BY DEGREE TYPE\")\n",
        "\n",
        "plt.show()\n"
      ],
      "execution_count": 0,
      "outputs": [
        {
          "output_type": "display_data",
          "data": {
            "image/png": "[encoded data removed]",
            "text/plain": [
              "<Figure size 432x288 with 1 Axes>"
            ]
          },
          "metadata": {
            "tags": [],
            "needs_background": "light"
          }
        }
      ]
    },
    {
      "cell_type": "code",
      "metadata": {
        "id": "kn4yOe6f1DzJ",
        "colab_type": "code",
        "outputId": "e61f3052-f42e-40a7-9897-a5f0669557a4",
        "colab": {
          "base_uri": "https://localhost:8080/",
          "height": 90
        }
      },
      "source": [
        "print(\"nUMBERS BY DEGREE SPECIALISATION\")\n",
        "pment['specialisation'].value_counts()"
      ],
      "execution_count": 0,
      "outputs": [
        {
          "output_type": "stream",
          "text": [
            "nUMBERS BY DEGREE SPECIALISATION\n"
          ],
          "name": "stdout"
        },
        {
          "output_type": "execute_result",
          "data": {
            "text/plain": [
              "Mkt&Fin    120\n",
              "Mkt&HR      95\n",
              "Name: specialisation, dtype: int64"
            ]
          },
          "metadata": {
            "tags": []
          },
          "execution_count": 35
        }
      ]
    },
    {
      "cell_type": "code",
      "metadata": {
        "id": "fKfWvSqk440o",
        "colab_type": "code",
        "outputId": "1c0278f2-abe6-4ad1-9de1-cbd19c2cf262",
        "colab": {
          "base_uri": "https://localhost:8080/",
          "height": 282
        }
      },
      "source": [
        "labels = 'Marketing & Finance', 'Marketing & HR'\n",
        "sizes = [128, 95]\n",
        "explode = (0, 0.1)\n",
        "\n",
        "fig4, ax4 = plt.subplots()\n",
        "ax4.pie(sizes, labels = labels, explode = explode, autopct = '%1.1f%%', shadow = True, startangle = 90)\n",
        "plt.title(\"PIE CHART SHOWING SPECIALISATION \")\n",
        "ax4.axis('equal')"
      ],
      "execution_count": 0,
      "outputs": [
        {
          "output_type": "execute_result",
          "data": {
            "text/plain": [
              "(-1.1155049387805371, 1.228834828227341, -1.1032797759606114, 1.1242894055891)"
            ]
          },
          "metadata": {
            "tags": []
          },
          "execution_count": 38
        },
        {
          "output_type": "display_data",
          "data": {
            "image/png": "[encoded data removed]",
            "text/plain": [
              "<Figure size 432x288 with 1 Axes>"
            ]
          },
          "metadata": {
            "tags": []
          }
        }
      ]
    },
    {
      "cell_type": "code",
      "metadata": {
        "id": "QRjNJc5O5rzb",
        "colab_type": "code",
        "outputId": "c00da7fc-a8e3-4738-9292-f84b76801ed4",
        "colab": {
          "base_uri": "https://localhost:8080/",
          "height": 107
        }
      },
      "source": [
        "\n",
        "workex_grp = pment.groupby(['workex'], as_index = False)['salary'].mean().round(2)\n",
        "workex_grp.rename(columns = {'workex': 'Work experience', 'salary': 'Average salary'}, inplace = True)\n",
        "workex_grp"
      ],
      "execution_count": 0,
      "outputs": [
        {
          "output_type": "execute_result",
          "data": {
            "text/html": [
              "<div>\n",
              "<style scoped>\n",
              "    .dataframe tbody tr th:only-of-type {\n",
              "        vertical-align: middle;\n",
              "    }\n",
              "\n",
              "    .dataframe tbody tr th {\n",
              "        vertical-align: top;\n",
              "    }\n",
              "\n",
              "    .dataframe thead th {\n",
              "        text-align: right;\n",
              "    }\n",
              "</style>\n",
              "<table border=\"1\" class=\"dataframe\">\n",
              "  <thead>\n",
              "    <tr style=\"text-align: right;\">\n",
              "      <th></th>\n",
              "      <th>Work experience</th>\n",
              "      <th>Average salary</th>\n",
              "    </tr>\n",
              "  </thead>\n",
              "  <tbody>\n",
              "    <tr>\n",
              "      <th>0</th>\n",
              "      <td>No</td>\n",
              "      <td>165333.33</td>\n",
              "    </tr>\n",
              "    <tr>\n",
              "      <th>1</th>\n",
              "      <td>Yes</td>\n",
              "      <td>262283.78</td>\n",
              "    </tr>\n",
              "  </tbody>\n",
              "</table>\n",
              "</div>"
            ],
            "text/plain": [
              "  Work experience  Average salary\n",
              "0              No       165333.33\n",
              "1             Yes       262283.78"
            ]
          },
          "metadata": {
            "tags": []
          },
          "execution_count": 52
        }
      ]
    },
    {
      "cell_type": "code",
      "metadata": {
        "id": "08MERWCR6wnS",
        "colab_type": "code",
        "outputId": "49fdafd8-cb7b-45d9-de59-d4216711647f",
        "colab": {
          "base_uri": "https://localhost:8080/",
          "height": 107
        }
      },
      "source": [
        "gender_grp = pment.groupby(['gender'], as_index = False)['salary'].mean().round(2)\n",
        "gender_grp.rename(columns = {'salary': 'Average salary', 'gender': 'Gender'}, inplace = True)\n",
        "gender_grp"
      ],
      "execution_count": 0,
      "outputs": [
        {
          "output_type": "execute_result",
          "data": {
            "text/html": [
              "<div>\n",
              "<style scoped>\n",
              "    .dataframe tbody tr th:only-of-type {\n",
              "        vertical-align: middle;\n",
              "    }\n",
              "\n",
              "    .dataframe tbody tr th {\n",
              "        vertical-align: top;\n",
              "    }\n",
              "\n",
              "    .dataframe thead th {\n",
              "        text-align: right;\n",
              "    }\n",
              "</style>\n",
              "<table border=\"1\" class=\"dataframe\">\n",
              "  <thead>\n",
              "    <tr style=\"text-align: right;\">\n",
              "      <th></th>\n",
              "      <th>Gender</th>\n",
              "      <th>Average salary</th>\n",
              "    </tr>\n",
              "  </thead>\n",
              "  <tbody>\n",
              "    <tr>\n",
              "      <th>0</th>\n",
              "      <td>F</td>\n",
              "      <td>168815.79</td>\n",
              "    </tr>\n",
              "    <tr>\n",
              "      <th>1</th>\n",
              "      <td>M</td>\n",
              "      <td>215043.17</td>\n",
              "    </tr>\n",
              "  </tbody>\n",
              "</table>\n",
              "</div>"
            ],
            "text/plain": [
              "  Gender  Average salary\n",
              "0      F       168815.79\n",
              "1      M       215043.17"
            ]
          },
          "metadata": {
            "tags": []
          },
          "execution_count": 53
        }
      ]
    },
    {
      "cell_type": "code",
      "metadata": {
        "id": "gJRkB-3h7VSl",
        "colab_type": "code",
        "outputId": "95262f7e-0f9c-4ce4-c942-f2f5bcd3b51d",
        "colab": {
          "base_uri": "https://localhost:8080/",
          "height": 107
        }
      },
      "source": [
        "spec_grp = pment.groupby(['specialisation'], as_index = False)['salary'].mean().round(2)\n",
        "spec_grp.rename(columns = {'specialisation': 'Specialisation', 'salary': 'Average salary'}, inplace = True)\n",
        "spec_grp"
      ],
      "execution_count": 0,
      "outputs": [
        {
          "output_type": "execute_result",
          "data": {
            "text/html": [
              "<div>\n",
              "<style scoped>\n",
              "    .dataframe tbody tr th:only-of-type {\n",
              "        vertical-align: middle;\n",
              "    }\n",
              "\n",
              "    .dataframe tbody tr th {\n",
              "        vertical-align: top;\n",
              "    }\n",
              "\n",
              "    .dataframe thead th {\n",
              "        text-align: right;\n",
              "    }\n",
              "</style>\n",
              "<table border=\"1\" class=\"dataframe\">\n",
              "  <thead>\n",
              "    <tr style=\"text-align: right;\">\n",
              "      <th></th>\n",
              "      <th>Specialisation</th>\n",
              "      <th>Average salary</th>\n",
              "    </tr>\n",
              "  </thead>\n",
              "  <tbody>\n",
              "    <tr>\n",
              "      <th>0</th>\n",
              "      <td>Mkt&amp;Fin</td>\n",
              "      <td>236591.67</td>\n",
              "    </tr>\n",
              "    <tr>\n",
              "      <th>1</th>\n",
              "      <td>Mkt&amp;HR</td>\n",
              "      <td>150842.11</td>\n",
              "    </tr>\n",
              "  </tbody>\n",
              "</table>\n",
              "</div>"
            ],
            "text/plain": [
              "  Specialisation  Average salary\n",
              "0        Mkt&Fin       236591.67\n",
              "1         Mkt&HR       150842.11"
            ]
          },
          "metadata": {
            "tags": []
          },
          "execution_count": 54
        }
      ]
    },
    {
      "cell_type": "markdown",
      "metadata": {
        "id": "KYj7x8aQv9pv",
        "colab_type": "text"
      },
      "source": [
        "# **THANK YOU FOR VIEWING MY PROJECT!!!**"
      ]
    }
  ]
}
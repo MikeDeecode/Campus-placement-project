{
  "nbformat": 4,
  "nbformat_minor": 0,
  "metadata": {
    "colab": {
      "name": "school-placement.ipynb",
      "provenance": [],
      "collapsed_sections": [],
      "authorship_tag": "ABX9TyMRLRpZBPjnWQdzNiMXVDt7",
      "include_colab_link": true
    },
    "kernelspec": {
      "name": "python3",
      "display_name": "Python 3"
    }
  },
  "cells": [
    {
      "cell_type": "markdown",
      "metadata": {
        "id": "view-in-github",
        "colab_type": "text"
      },
      "source": [
        "<a href=\"https://colab.research.google.com/github/MikeDeecode/Campus-placement-project/blob/master/school_placement.ipynb\" target=\"_parent\"><img src=\"https://colab.research.google.com/assets/colab-badge.svg\" alt=\"Open In Colab\"/></a>"
      ]
    },
    {
      "cell_type": "markdown",
      "metadata": {
        "id": "MHY57fhih4Qd",
        "colab_type": "text"
      },
      "source": [
        "# **MBA STUDENTS PLACEMENT AT THE JAIN UNIVERSITY BANGALORE** "
      ]
    },
    {
      "cell_type": "markdown",
      "metadata": {
        "id": "9XKDbih8y99v",
        "colab_type": "text"
      },
      "source": [
        "# Exploratory Analysis and Machine Learning on the Campus Placement Data"
      ]
    },
    {
      "cell_type": "markdown",
      "metadata": {
        "id": "Wz4TYWLnzOzP",
        "colab_type": "text"
      },
      "source": [
        "\n",
        "\n",
        "*   Exploratory Data Analysis\n",
        "*   Visualisation of analysed data \n",
        "*   Determining the characteristics affecting placement and salary\n",
        "*   Using Decision Tree classifier to determine the Status of a student\n",
        "*   Insights from the data\n",
        "\n",
        "Ride along.\n",
        "\n",
        "\n",
        "\n",
        "\n",
        "\n"
      ]
    },
    {
      "cell_type": "markdown",
      "metadata": {
        "id": "y4O915qX0GV_",
        "colab_type": "text"
      },
      "source": [
        "###**Description of the dataset**"
      ]
    },
    {
      "cell_type": "markdown",
      "metadata": {
        "id": "5Fku5ddT0S1T",
        "colab_type": "text"
      },
      "source": [
        "The dataset used for this project contains the data of students from **Jain University Bangalore**"
      ]
    },
    {
      "cell_type": "markdown",
      "metadata": {
        "id": "M0Op2asI0s5q",
        "colab_type": "text"
      },
      "source": [
        "There are 215 rows and 15 columns in this dataset "
      ]
    },
    {
      "cell_type": "markdown",
      "metadata": {
        "id": "3oofWqRe1Hzv",
        "colab_type": "text"
      },
      "source": [
        "The columns contained in the dataset are as follows:\n",
        "\n",
        "\n",
        "*   **sl_mo** - Serial number or index of the rows\n",
        "*   **gender** - Sex of the students in the dataset\n",
        "*   **ssc_p** - Secondary school percentage\n",
        "*   **ssc_b** - Secondary school board\n",
        "*   **hsc_p** - Higher secondary school percentage\n",
        "*   **hsc_b** - Higher secondary school board\n",
        "*   **hsc_s** - Higher secondary school specialisation\n",
        "*   **degree_p** - Degree percentage\n",
        "*   **degree_t** - Degree type\n",
        "*   **workex** - Work experience\n",
        "*   **etest_p** - Employability test percentage\n",
        "*   **specialisation** - MBA specialisation\n",
        "*   **mba_p** - MBA percentage\n",
        "*   **status** - Student's status(Placed or Not placed)\n",
        "*   **salary** - Salary expectation of students \n"
      ]
    },
    {
      "cell_type": "markdown",
      "metadata": {
        "id": "xt-rPvdIdCFL",
        "colab_type": "text"
      },
      "source": [
        "##**EXPLORATORY ANALYSIS (GETTINNG INSIGHTS AND DETERMINING FEATURES FROM THE DATA)**"
      ]
    },
    {
      "cell_type": "markdown",
      "metadata": {
        "id": "5pJBwTAUhoBd",
        "colab_type": "text"
      },
      "source": [
        "Import the needed libraries to perform out analysis"
      ]
    },
    {
      "cell_type": "code",
      "metadata": {
        "id": "koQnlm3uSYlz",
        "colab_type": "code",
        "outputId": "61b38bd1-5cce-4f90-a25b-4aec93254306",
        "colab": {
          "base_uri": "https://localhost:8080/",
          "height": 92
        }
      },
      "source": [
        "import numpy as np\n",
        "import pandas as pd \n",
        "import matplotlib.pyplot as plt\n",
        "import seaborn as sns \n",
        "%matplotlib inline \n",
        "\n",
        "print(\"Setup complete\")"
      ],
      "execution_count": 1,
      "outputs": [
        {
          "output_type": "stream",
          "text": [
            "Setup complete\n"
          ],
          "name": "stdout"
        },
        {
          "output_type": "stream",
          "text": [
            "/usr/local/lib/python3.6/dist-packages/statsmodels/tools/_testing.py:19: FutureWarning: pandas.util.testing is deprecated. Use the functions in the public API at pandas.testing instead.\n",
            "  import pandas.util.testing as tm\n"
          ],
          "name": "stderr"
        }
      ]
    },
    {
      "cell_type": "markdown",
      "metadata": {
        "id": "PaAGYX8iduNl",
        "colab_type": "text"
      },
      "source": [
        "Import the dataset"
      ]
    },
    {
      "cell_type": "code",
      "metadata": {
        "id": "tc1PU9KfS9wZ",
        "colab_type": "code",
        "outputId": "4c81088f-a99d-46e0-f01e-8e539bb522fb",
        "colab": {
          "base_uri": "https://localhost:8080/",
          "height": 35
        }
      },
      "source": [
        "pment = pd.read_csv(\"/content/Placement_Data_(viz).csv\", index_col = 0)\n",
        "print (\"Successful\")"
      ],
      "execution_count": 2,
      "outputs": [
        {
          "output_type": "stream",
          "text": [
            "Successful\n"
          ],
          "name": "stdout"
        }
      ]
    },
    {
      "cell_type": "markdown",
      "metadata": {
        "id": "JjMr4yaOkEs7",
        "colab_type": "text"
      },
      "source": [
        "Obtaining a brief description of the datasets"
      ]
    },
    {
      "cell_type": "code",
      "metadata": {
        "id": "zupclYBOTyYf",
        "colab_type": "code",
        "outputId": "00ca2e05-c7fe-459b-f2d4-de74a01c51db",
        "colab": {
          "base_uri": "https://localhost:8080/",
          "height": 264
        }
      },
      "source": [
        "pment.head()"
      ],
      "execution_count": 0,
      "outputs": [
        {
          "output_type": "execute_result",
          "data": {
            "text/html": [
              "<div>\n",
              "<style scoped>\n",
              "    .dataframe tbody tr th:only-of-type {\n",
              "        vertical-align: middle;\n",
              "    }\n",
              "\n",
              "    .dataframe tbody tr th {\n",
              "        vertical-align: top;\n",
              "    }\n",
              "\n",
              "    .dataframe thead th {\n",
              "        text-align: right;\n",
              "    }\n",
              "</style>\n",
              "<table border=\"1\" class=\"dataframe\">\n",
              "  <thead>\n",
              "    <tr style=\"text-align: right;\">\n",
              "      <th></th>\n",
              "      <th>gender</th>\n",
              "      <th>ssc_p</th>\n",
              "      <th>ssc_b</th>\n",
              "      <th>hsc_p</th>\n",
              "      <th>hsc_b</th>\n",
              "      <th>hsc_s</th>\n",
              "      <th>degree_p</th>\n",
              "      <th>degree_t</th>\n",
              "      <th>workex</th>\n",
              "      <th>etest_p</th>\n",
              "      <th>specialisation</th>\n",
              "      <th>mba_p</th>\n",
              "      <th>status</th>\n",
              "      <th>salary</th>\n",
              "    </tr>\n",
              "    <tr>\n",
              "      <th>sl_no</th>\n",
              "      <th></th>\n",
              "      <th></th>\n",
              "      <th></th>\n",
              "      <th></th>\n",
              "      <th></th>\n",
              "      <th></th>\n",
              "      <th></th>\n",
              "      <th></th>\n",
              "      <th></th>\n",
              "      <th></th>\n",
              "      <th></th>\n",
              "      <th></th>\n",
              "      <th></th>\n",
              "      <th></th>\n",
              "    </tr>\n",
              "  </thead>\n",
              "  <tbody>\n",
              "    <tr>\n",
              "      <th>1</th>\n",
              "      <td>M</td>\n",
              "      <td>67.00</td>\n",
              "      <td>Others</td>\n",
              "      <td>91.00</td>\n",
              "      <td>Others</td>\n",
              "      <td>Commerce</td>\n",
              "      <td>58.00</td>\n",
              "      <td>Sci&amp;Tech</td>\n",
              "      <td>No</td>\n",
              "      <td>55.0</td>\n",
              "      <td>Mkt&amp;HR</td>\n",
              "      <td>58.80</td>\n",
              "      <td>Placed</td>\n",
              "      <td>270000.0</td>\n",
              "    </tr>\n",
              "    <tr>\n",
              "      <th>2</th>\n",
              "      <td>M</td>\n",
              "      <td>79.33</td>\n",
              "      <td>Central</td>\n",
              "      <td>78.33</td>\n",
              "      <td>Others</td>\n",
              "      <td>Science</td>\n",
              "      <td>77.48</td>\n",
              "      <td>Sci&amp;Tech</td>\n",
              "      <td>Yes</td>\n",
              "      <td>86.5</td>\n",
              "      <td>Mkt&amp;Fin</td>\n",
              "      <td>66.28</td>\n",
              "      <td>Placed</td>\n",
              "      <td>200000.0</td>\n",
              "    </tr>\n",
              "    <tr>\n",
              "      <th>3</th>\n",
              "      <td>M</td>\n",
              "      <td>65.00</td>\n",
              "      <td>Central</td>\n",
              "      <td>68.00</td>\n",
              "      <td>Central</td>\n",
              "      <td>Arts</td>\n",
              "      <td>64.00</td>\n",
              "      <td>Comm&amp;Mgmt</td>\n",
              "      <td>No</td>\n",
              "      <td>75.0</td>\n",
              "      <td>Mkt&amp;Fin</td>\n",
              "      <td>57.80</td>\n",
              "      <td>Placed</td>\n",
              "      <td>250000.0</td>\n",
              "    </tr>\n",
              "    <tr>\n",
              "      <th>4</th>\n",
              "      <td>M</td>\n",
              "      <td>56.00</td>\n",
              "      <td>Central</td>\n",
              "      <td>52.00</td>\n",
              "      <td>Central</td>\n",
              "      <td>Science</td>\n",
              "      <td>52.00</td>\n",
              "      <td>Sci&amp;Tech</td>\n",
              "      <td>No</td>\n",
              "      <td>66.0</td>\n",
              "      <td>Mkt&amp;HR</td>\n",
              "      <td>59.43</td>\n",
              "      <td>Not Placed</td>\n",
              "      <td>NaN</td>\n",
              "    </tr>\n",
              "    <tr>\n",
              "      <th>5</th>\n",
              "      <td>M</td>\n",
              "      <td>85.80</td>\n",
              "      <td>Central</td>\n",
              "      <td>73.60</td>\n",
              "      <td>Central</td>\n",
              "      <td>Commerce</td>\n",
              "      <td>73.30</td>\n",
              "      <td>Comm&amp;Mgmt</td>\n",
              "      <td>No</td>\n",
              "      <td>96.8</td>\n",
              "      <td>Mkt&amp;Fin</td>\n",
              "      <td>55.50</td>\n",
              "      <td>Placed</td>\n",
              "      <td>425000.0</td>\n",
              "    </tr>\n",
              "  </tbody>\n",
              "</table>\n",
              "</div>"
            ],
            "text/plain": [
              "      gender  ssc_p    ssc_b  hsc_p  ... specialisation  mba_p      status    salary\n",
              "sl_no                                ...                                            \n",
              "1          M  67.00   Others  91.00  ...         Mkt&HR  58.80      Placed  270000.0\n",
              "2          M  79.33  Central  78.33  ...        Mkt&Fin  66.28      Placed  200000.0\n",
              "3          M  65.00  Central  68.00  ...        Mkt&Fin  57.80      Placed  250000.0\n",
              "4          M  56.00  Central  52.00  ...         Mkt&HR  59.43  Not Placed       NaN\n",
              "5          M  85.80  Central  73.60  ...        Mkt&Fin  55.50      Placed  425000.0\n",
              "\n",
              "[5 rows x 14 columns]"
            ]
          },
          "metadata": {
            "tags": []
          },
          "execution_count": 5
        }
      ]
    },
    {
      "cell_type": "code",
      "metadata": {
        "id": "gVWvXuxEf7qn",
        "colab_type": "code",
        "colab": {
          "base_uri": "https://localhost:8080/",
          "height": 287
        },
        "outputId": "719eb7b3-050a-4310-b8c9-48cb38109a35"
      },
      "source": [
        "pment.describe()"
      ],
      "execution_count": 3,
      "outputs": [
        {
          "output_type": "execute_result",
          "data": {
            "text/html": [
              "<div>\n",
              "<style scoped>\n",
              "    .dataframe tbody tr th:only-of-type {\n",
              "        vertical-align: middle;\n",
              "    }\n",
              "\n",
              "    .dataframe tbody tr th {\n",
              "        vertical-align: top;\n",
              "    }\n",
              "\n",
              "    .dataframe thead th {\n",
              "        text-align: right;\n",
              "    }\n",
              "</style>\n",
              "<table border=\"1\" class=\"dataframe\">\n",
              "  <thead>\n",
              "    <tr style=\"text-align: right;\">\n",
              "      <th></th>\n",
              "      <th>ssc_p</th>\n",
              "      <th>hsc_p</th>\n",
              "      <th>degree_p</th>\n",
              "      <th>etest_p</th>\n",
              "      <th>mba_p</th>\n",
              "      <th>salary</th>\n",
              "    </tr>\n",
              "  </thead>\n",
              "  <tbody>\n",
              "    <tr>\n",
              "      <th>count</th>\n",
              "      <td>215.000000</td>\n",
              "      <td>215.000000</td>\n",
              "      <td>215.000000</td>\n",
              "      <td>215.000000</td>\n",
              "      <td>215.000000</td>\n",
              "      <td>148.000000</td>\n",
              "    </tr>\n",
              "    <tr>\n",
              "      <th>mean</th>\n",
              "      <td>67.303395</td>\n",
              "      <td>66.333163</td>\n",
              "      <td>66.370186</td>\n",
              "      <td>72.100558</td>\n",
              "      <td>62.278186</td>\n",
              "      <td>288655.405405</td>\n",
              "    </tr>\n",
              "    <tr>\n",
              "      <th>std</th>\n",
              "      <td>10.827205</td>\n",
              "      <td>10.897509</td>\n",
              "      <td>7.358743</td>\n",
              "      <td>13.275956</td>\n",
              "      <td>5.833385</td>\n",
              "      <td>93457.452420</td>\n",
              "    </tr>\n",
              "    <tr>\n",
              "      <th>min</th>\n",
              "      <td>40.890000</td>\n",
              "      <td>37.000000</td>\n",
              "      <td>50.000000</td>\n",
              "      <td>50.000000</td>\n",
              "      <td>51.210000</td>\n",
              "      <td>200000.000000</td>\n",
              "    </tr>\n",
              "    <tr>\n",
              "      <th>25%</th>\n",
              "      <td>60.600000</td>\n",
              "      <td>60.900000</td>\n",
              "      <td>61.000000</td>\n",
              "      <td>60.000000</td>\n",
              "      <td>57.945000</td>\n",
              "      <td>240000.000000</td>\n",
              "    </tr>\n",
              "    <tr>\n",
              "      <th>50%</th>\n",
              "      <td>67.000000</td>\n",
              "      <td>65.000000</td>\n",
              "      <td>66.000000</td>\n",
              "      <td>71.000000</td>\n",
              "      <td>62.000000</td>\n",
              "      <td>265000.000000</td>\n",
              "    </tr>\n",
              "    <tr>\n",
              "      <th>75%</th>\n",
              "      <td>75.700000</td>\n",
              "      <td>73.000000</td>\n",
              "      <td>72.000000</td>\n",
              "      <td>83.500000</td>\n",
              "      <td>66.255000</td>\n",
              "      <td>300000.000000</td>\n",
              "    </tr>\n",
              "    <tr>\n",
              "      <th>max</th>\n",
              "      <td>89.400000</td>\n",
              "      <td>97.700000</td>\n",
              "      <td>91.000000</td>\n",
              "      <td>98.000000</td>\n",
              "      <td>77.890000</td>\n",
              "      <td>940000.000000</td>\n",
              "    </tr>\n",
              "  </tbody>\n",
              "</table>\n",
              "</div>"
            ],
            "text/plain": [
              "            ssc_p       hsc_p  ...       mba_p         salary\n",
              "count  215.000000  215.000000  ...  215.000000     148.000000\n",
              "mean    67.303395   66.333163  ...   62.278186  288655.405405\n",
              "std     10.827205   10.897509  ...    5.833385   93457.452420\n",
              "min     40.890000   37.000000  ...   51.210000  200000.000000\n",
              "25%     60.600000   60.900000  ...   57.945000  240000.000000\n",
              "50%     67.000000   65.000000  ...   62.000000  265000.000000\n",
              "75%     75.700000   73.000000  ...   66.255000  300000.000000\n",
              "max     89.400000   97.700000  ...   77.890000  940000.000000\n",
              "\n",
              "[8 rows x 6 columns]"
            ]
          },
          "metadata": {
            "tags": []
          },
          "execution_count": 3
        }
      ]
    },
    {
      "cell_type": "markdown",
      "metadata": {
        "id": "RIaSPOIJmrMQ",
        "colab_type": "text"
      },
      "source": [
        "The above data shows salary data in different percentiles "
      ]
    },
    {
      "cell_type": "code",
      "metadata": {
        "id": "e7uF96t5T3b9",
        "colab_type": "code",
        "outputId": "c5089eea-04ed-4566-819b-20ed5ebb0c71",
        "colab": {
          "base_uri": "https://localhost:8080/",
          "height": 402
        }
      },
      "source": [
        "pment.info()"
      ],
      "execution_count": 0,
      "outputs": [
        {
          "output_type": "stream",
          "text": [
            "<class 'pandas.core.frame.DataFrame'>\n",
            "Int64Index: 215 entries, 1 to 215\n",
            "Data columns (total 14 columns):\n",
            " #   Column          Non-Null Count  Dtype  \n",
            "---  ------          --------------  -----  \n",
            " 0   gender          215 non-null    object \n",
            " 1   ssc_p           215 non-null    float64\n",
            " 2   ssc_b           215 non-null    object \n",
            " 3   hsc_p           215 non-null    float64\n",
            " 4   hsc_b           215 non-null    object \n",
            " 5   hsc_s           215 non-null    object \n",
            " 6   degree_p        215 non-null    float64\n",
            " 7   degree_t        215 non-null    object \n",
            " 8   workex          215 non-null    object \n",
            " 9   etest_p         215 non-null    float64\n",
            " 10  specialisation  215 non-null    object \n",
            " 11  mba_p           215 non-null    float64\n",
            " 12  status          215 non-null    object \n",
            " 13  salary          148 non-null    float64\n",
            "dtypes: float64(6), object(8)\n",
            "memory usage: 25.2+ KB\n"
          ],
          "name": "stdout"
        }
      ]
    },
    {
      "cell_type": "markdown",
      "metadata": {
        "id": "VGKC2j-YrHnL",
        "colab_type": "text"
      },
      "source": [
        "OBSERVATION"
      ]
    },
    {
      "cell_type": "markdown",
      "metadata": {
        "id": "d2IiIq7QeZM3",
        "colab_type": "text"
      },
      "source": [
        "\n",
        "\n",
        "*   The salary column has some missing values\n",
        "*   Looking at the dataset again I observed that students who have not been placed do not have salarie as shown below\n",
        "*   There are 67 missing values"
      ]
    },
    {
      "cell_type": "code",
      "metadata": {
        "id": "dlkG8FtmT973",
        "colab_type": "code",
        "colab": {
          "base_uri": "https://localhost:8080/",
          "height": 107
        },
        "outputId": "3810604e-b434-45bf-aad2-016323edb0ff"
      },
      "source": [
        "salary_by_status = pment.groupby('status', as_index = False)['salary'].sum()\n",
        "salary_by_status.rename(columns = {'salary': 'Total salary'}, inplace = True)\n",
        "salary_by_status"
      ],
      "execution_count": 7,
      "outputs": [
        {
          "output_type": "execute_result",
          "data": {
            "text/html": [
              "<div>\n",
              "<style scoped>\n",
              "    .dataframe tbody tr th:only-of-type {\n",
              "        vertical-align: middle;\n",
              "    }\n",
              "\n",
              "    .dataframe tbody tr th {\n",
              "        vertical-align: top;\n",
              "    }\n",
              "\n",
              "    .dataframe thead th {\n",
              "        text-align: right;\n",
              "    }\n",
              "</style>\n",
              "<table border=\"1\" class=\"dataframe\">\n",
              "  <thead>\n",
              "    <tr style=\"text-align: right;\">\n",
              "      <th></th>\n",
              "      <th>status</th>\n",
              "      <th>Total salary</th>\n",
              "    </tr>\n",
              "  </thead>\n",
              "  <tbody>\n",
              "    <tr>\n",
              "      <th>0</th>\n",
              "      <td>Not Placed</td>\n",
              "      <td>0.0</td>\n",
              "    </tr>\n",
              "    <tr>\n",
              "      <th>1</th>\n",
              "      <td>Placed</td>\n",
              "      <td>42721000.0</td>\n",
              "    </tr>\n",
              "  </tbody>\n",
              "</table>\n",
              "</div>"
            ],
            "text/plain": [
              "       status  Total salary\n",
              "0  Not Placed           0.0\n",
              "1      Placed    42721000.0"
            ]
          },
          "metadata": {
            "tags": []
          },
          "execution_count": 7
        }
      ]
    },
    {
      "cell_type": "markdown",
      "metadata": {
        "id": "nuFOTaovhAca",
        "colab_type": "text"
      },
      "source": [
        "## **EXPLORING DATA BY FEATURES**"
      ]
    },
    {
      "cell_type": "markdown",
      "metadata": {
        "id": "-ROmoE-sn6fe",
        "colab_type": "text"
      },
      "source": [
        "###GENDER"
      ]
    },
    {
      "cell_type": "markdown",
      "metadata": {
        "id": "GxPo-Ei5o0NH",
        "colab_type": "text"
      },
      "source": [
        "**NUMBER OF MALE AND FEMALE STUDENTS**"
      ]
    },
    {
      "cell_type": "code",
      "metadata": {
        "id": "zgYX6z9NUREY",
        "colab_type": "code",
        "outputId": "75eb6242-ff1f-4ae3-e596-488d770efb65",
        "colab": {
          "base_uri": "https://localhost:8080/",
          "height": 72
        }
      },
      "source": [
        "pment['gender'].value_counts()"
      ],
      "execution_count": 8,
      "outputs": [
        {
          "output_type": "execute_result",
          "data": {
            "text/plain": [
              "M    139\n",
              "F     76\n",
              "Name: gender, dtype: int64"
            ]
          },
          "metadata": {
            "tags": []
          },
          "execution_count": 8
        }
      ]
    },
    {
      "cell_type": "markdown",
      "metadata": {
        "id": "MCNA8keToIeP",
        "colab_type": "text"
      },
      "source": [
        "There are 138 male students and 76 female students "
      ]
    },
    {
      "cell_type": "markdown",
      "metadata": {
        "id": "-AAnmBvGrT88",
        "colab_type": "text"
      },
      "source": [
        "**PERCENTAGE OF MALE AND FEMALE STUDENTS**"
      ]
    },
    {
      "cell_type": "code",
      "metadata": {
        "id": "nV8JDBwxpl2e",
        "colab_type": "code",
        "outputId": "62c4bbb6-dee0-42eb-9536-83e4c1f8ede7",
        "colab": {
          "base_uri": "https://localhost:8080/",
          "height": 264
        }
      },
      "source": [
        "labels = 'Male', 'Female'\n",
        "sizes = [139, 76]\n",
        "explode = (0.1, 0)\n",
        "\n",
        "fig1, ax1 = plt.subplots()\n",
        "ax1.pie(sizes, labels = labels, explode = explode, autopct = '%1.1f%%', shadow = True, startangle = 90)\n",
        "ax1.axis('equal')\n",
        "plt.title(\"PIE CHART SHOWING THE PERCENTAGE OF MALE AND FEMALE STUDENTS\")\n",
        "plt.show()"
      ],
      "execution_count": 13,
      "outputs": [
        {
          "output_type": "display_data",
          "data": {
            "image/png": "[encoded data removed]",
            "text/plain": [
              "<Figure size 432x288 with 1 Axes>"
            ]
          },
          "metadata": {
            "tags": []
          }
        }
      ]
    },
    {
      "cell_type": "markdown",
      "metadata": {
        "id": "gNzK_Vi7pDxa",
        "colab_type": "text"
      },
      "source": [
        "\n",
        "\n",
        "*   64.7% of the students are male \n",
        "*   35.3% of the students are female\n",
        "\n"
      ]
    },
    {
      "cell_type": "code",
      "metadata": {
        "id": "qvrKFXgQr97i",
        "colab_type": "code",
        "outputId": "495a59ce-d059-4fe2-efe7-67dce012f4a3",
        "colab": {
          "base_uri": "https://localhost:8080/",
          "height": 90
        }
      },
      "source": [
        "print(\"NUMBERS BY STATUS\")\n",
        "pment['status'].value_counts()"
      ],
      "execution_count": 0,
      "outputs": [
        {
          "output_type": "stream",
          "text": [
            "NUMBERS BY STATUS\n"
          ],
          "name": "stdout"
        },
        {
          "output_type": "execute_result",
          "data": {
            "text/plain": [
              "Placed        148\n",
              "Not Placed     67\n",
              "Name: status, dtype: int64"
            ]
          },
          "metadata": {
            "tags": []
          },
          "execution_count": 30
        }
      ]
    },
    {
      "cell_type": "code",
      "metadata": {
        "id": "MEMwbOtdtLkQ",
        "colab_type": "code",
        "outputId": "431e5712-e83b-42df-ed0f-87323c870722",
        "colab": {
          "base_uri": "https://localhost:8080/",
          "height": 264
        }
      },
      "source": [
        "labels = 'Placed', 'Not Placed'\n",
        "sizes = [148, 67]\n",
        "explode = (0, 0.1)\n",
        "\n",
        "fig1,ax2 = plt.subplots()\n",
        "ax2.pie(sizes, labels = labels, explode = explode, autopct = '%1.1f%%', shadow = True, startangle = 90)\n",
        "ax2.axis('equal')\n",
        "plt.title(\"PIE CHART SHOWING THE STATUS PERCENTAGE OF STUDENTS\")\n",
        "plt.show()"
      ],
      "execution_count": 0,
      "outputs": [
        {
          "output_type": "display_data",
          "data": {
            "image/png": "[encoded data removed]",
            "text/plain": [
              "<Figure size 432x288 with 1 Axes>"
            ]
          },
          "metadata": {
            "tags": []
          }
        }
      ]
    },
    {
      "cell_type": "code",
      "metadata": {
        "id": "ZbN7-uLRyhkL",
        "colab_type": "code",
        "outputId": "d862ccec-66dd-4030-a3e1-d47ce89d1e89",
        "colab": {
          "base_uri": "https://localhost:8080/",
          "height": 404
        }
      },
      "source": [
        "plt.figure(figsize =(8, 6))\n",
        "sns.countplot('gender', hue = 'status', data = pment)\n",
        "plt.title(\"BAR CHART SHOWING STATUS BY GENDER\")\n",
        "plt.xlabel('Gender')\n",
        "plt.ylabel('Number of Students')\n",
        "plt.show()"
      ],
      "execution_count": 24,
      "outputs": [
        {
          "output_type": "display_data",
          "data": {
            "image/png": "[encoded data removed]",
            "text/plain": [
              "<Figure size 576x432 with 1 Axes>"
            ]
          },
          "metadata": {
            "tags": [],
            "needs_background": "light"
          }
        }
      ]
    },
    {
      "cell_type": "markdown",
      "metadata": {
        "id": "Ro1N00N0qviK",
        "colab_type": "text"
      },
      "source": [
        "OBSERVATION"
      ]
    },
    {
      "cell_type": "markdown",
      "metadata": {
        "id": "dQQJyPoOqyiu",
        "colab_type": "text"
      },
      "source": [
        "*   there are more men than women who are placed \n",
        "*   There are also more men than women who are not placed \n",
        "*   This seems normal because there are more men than women in the data set"
      ]
    },
    {
      "cell_type": "markdown",
      "metadata": {
        "id": "dKDUqmNF1DYR",
        "colab_type": "text"
      },
      "source": [
        "**HOW GENDER AFFECTS SALARY**"
      ]
    },
    {
      "cell_type": "code",
      "metadata": {
        "id": "AQjDAkUSy1df",
        "colab_type": "code",
        "outputId": "b07d11e8-5f93-439f-aadc-e71accbb9dac",
        "colab": {
          "base_uri": "https://localhost:8080/",
          "height": 404
        }
      },
      "source": [
        "plt.figure(figsize = (14, 6))\n",
        "sns.boxplot('salary', 'gender', data = pment)\n",
        "plt.title(\"BOXPLOT SHOWING SALARY BY GENDER\")\n",
        "plt.show()"
      ],
      "execution_count": 41,
      "outputs": [
        {
          "output_type": "display_data",
          "data": {
            "image/png": "[encoded data removed]",
            "text/plain": [
              "<Figure size 1008x432 with 1 Axes>"
            ]
          },
          "metadata": {
            "tags": [],
            "needs_background": "light"
          }
        }
      ]
    },
    {
      "cell_type": "markdown",
      "metadata": {
        "id": "vHGn9iqAuDk9",
        "colab_type": "text"
      },
      "source": [
        "OBSERVATION"
      ]
    },
    {
      "cell_type": "markdown",
      "metadata": {
        "id": "4ymMT3n3uGEG",
        "colab_type": "text"
      },
      "source": [
        "*   Generally, the male students earn higher than the female students "
      ]
    },
    {
      "cell_type": "markdown",
      "metadata": {
        "id": "X0LdHd_av_85",
        "colab_type": "text"
      },
      "source": [
        "CONCLUSION\n",
        "\n",
        "* We can conclude that gender affects placement and salaty of the students"
      ]
    },
    {
      "cell_type": "markdown",
      "metadata": {
        "id": "dZqVyIEsx9zx",
        "colab_type": "text"
      },
      "source": [
        "###SECONDARY EDUCATION PERCENTAGE (ssc_p) AND SECONDARY EDUCATION BOARD (ssc_b)\n",
        "\n"
      ]
    },
    {
      "cell_type": "markdown",
      "metadata": {
        "id": "1FM2nZh7yqO9",
        "colab_type": "text"
      },
      "source": [
        "**NUMBER OF STUDENTS IN EACH SECONDARY EDUCATION BOARD**"
      ]
    },
    {
      "cell_type": "code",
      "metadata": {
        "id": "6KJsy5P6zWJO",
        "colab_type": "code",
        "outputId": "5fdf7ee9-3391-4bab-cafa-fb4bcb7f7861",
        "colab": {
          "base_uri": "https://localhost:8080/",
          "height": 72
        }
      },
      "source": [
        "pment['ssc_b'].value_counts()"
      ],
      "execution_count": 31,
      "outputs": [
        {
          "output_type": "execute_result",
          "data": {
            "text/plain": [
              "Central    116\n",
              "Others      99\n",
              "Name: ssc_b, dtype: int64"
            ]
          },
          "metadata": {
            "tags": []
          },
          "execution_count": 31
        }
      ]
    },
    {
      "cell_type": "markdown",
      "metadata": {
        "id": "CrRf9Wq4zJPM",
        "colab_type": "text"
      },
      "source": [
        "* There are 116 students from the Central board \n",
        "* There are 99 students from other boards"
      ]
    },
    {
      "cell_type": "markdown",
      "metadata": {
        "id": "XopBmBCyziqs",
        "colab_type": "text"
      },
      "source": [
        "**PERCENTAGE OF STUDENTS FROM EACH SECONDARY EDUCATION BOARD**"
      ]
    },
    {
      "cell_type": "code",
      "metadata": {
        "id": "ynlYAvWW0Ywf",
        "colab_type": "code",
        "outputId": "4a1c7b83-b7ef-45af-c33a-c2949a6050b3",
        "colab": {
          "base_uri": "https://localhost:8080/",
          "height": 264
        }
      },
      "source": [
        "labels = 'Central', 'Others'\n",
        "sizes  =[116, 99]\n",
        "\n",
        "fig2, ax2 = plt.subplots()\n",
        "ax2.pie(sizes, labels = labels, autopct = '%1.1f%%', startangle = 90)\n",
        "ax2.axis('equal')\n",
        "plt.title(\"PIE CHART SHOWING PERCENTAGE OF STUDENTS BY SECONDARY EDUCATION BOARD\")\n",
        "plt.show()"
      ],
      "execution_count": 35,
      "outputs": [
        {
          "output_type": "display_data",
          "data": {
            "image/png": "[encoded data removed]",
            "text/plain": [
              "<Figure size 432x288 with 1 Axes>"
            ]
          },
          "metadata": {
            "tags": []
          }
        }
      ]
    },
    {
      "cell_type": "markdown",
      "metadata": {
        "id": "akTR2Qrl0q59",
        "colab_type": "text"
      },
      "source": [
        "* 54% of the students are from the Central Secondary education board \n",
        "* 46% of the students are from Other secondary ediucation boards"
      ]
    },
    {
      "cell_type": "markdown",
      "metadata": {
        "id": "lSQdzp7V1ZkN",
        "colab_type": "text"
      },
      "source": [
        "**STATUS OF STUDENTS BY SECONDARY EDUCATION PERCENTAGE**"
      ]
    },
    {
      "cell_type": "code",
      "metadata": {
        "id": "kn4yOe6f1DzJ",
        "colab_type": "code",
        "outputId": "00f19997-de04-43eb-c7b6-9e05da0968fc",
        "colab": {
          "base_uri": "https://localhost:8080/",
          "height": 388
        }
      },
      "source": [
        "plt.figure(figsize = (14, 6))\n",
        "sns.boxplot('ssc_p', 'status', data = pment)\n",
        "plt.xlabel(\"Secondary Education percentage\")\n",
        "plt.ylabel(\"Status\")\n",
        "plt.title(\"BOX PLOT SHOWING STATUS BY SECONDARY SCHOOL PERCENTAGE\")\n",
        "plt.show()"
      ],
      "execution_count": 39,
      "outputs": [
        {
          "output_type": "display_data",
          "data": {
            "image/png": "[encoded data removed]",
            "text/plain": [
              "<Figure size 1008x432 with 1 Axes>"
            ]
          },
          "metadata": {
            "tags": [],
            "needs_background": "light"
          }
        }
      ]
    },
    {
      "cell_type": "markdown",
      "metadata": {
        "id": "yuEyOeXM3clU",
        "colab_type": "text"
      },
      "source": [
        "* Students with higher Secondary education percentage get placed faster"
      ]
    },
    {
      "cell_type": "markdown",
      "metadata": {
        "id": "MCm4BMfA5-am",
        "colab_type": "text"
      },
      "source": [
        "**HOW SECONDARY EDUCATION BOARD AFFECTS STATUS**"
      ]
    },
    {
      "cell_type": "code",
      "metadata": {
        "id": "hQKug4CY5BHV",
        "colab_type": "code",
        "colab": {
          "base_uri": "https://localhost:8080/",
          "height": 404
        },
        "outputId": "50b1b01f-26f9-4269-caaf-abe417d632f0"
      },
      "source": [
        "plt.figure(figsize = (8, 6))\n",
        "sns.countplot('ssc_b', hue = 'status', data = pment)\n",
        "plt.title(\"BAR CHART SHOWING PLACEMENT BY SECONDARY EDUCATION BOARD\")\n",
        "plt.xlabel(\"Secondary education board\")\n",
        "plt.show()"
      ],
      "execution_count": 45,
      "outputs": [
        {
          "output_type": "display_data",
          "data": {
            "image/png": "[encoded data removed]",
            "text/plain": [
              "<Figure size 576x432 with 1 Axes>"
            ]
          },
          "metadata": {
            "tags": [],
            "needs_background": "light"
          }
        }
      ]
    },
    {
      "cell_type": "markdown",
      "metadata": {
        "id": "G2UGBmbv6BcK",
        "colab_type": "text"
      },
      "source": [
        "* Secondary education board dosent seem to have an effect on the placement of students "
      ]
    },
    {
      "cell_type": "markdown",
      "metadata": {
        "id": "fVN7dF7G8ZKT",
        "colab_type": "text"
      },
      "source": [
        "**HOW SECNDARY EDUCATION PERCENTAGE AND BOARD AFFECTS SALARY**"
      ]
    },
    {
      "cell_type": "code",
      "metadata": {
        "id": "ts6fFBMf8iWo",
        "colab_type": "code",
        "colab": {
          "base_uri": "https://localhost:8080/",
          "height": 404
        },
        "outputId": "936d158f-307e-4564-8784-e806c596c59f"
      },
      "source": [
        "plt.figure(figsize = (14, 6))\n",
        "sns.lineplot('ssc_p', 'salary', hue = 'ssc_b', data = pment)\n",
        "plt.xlabel(\"Secondary education board\")\n",
        "plt.title(\"LINE PLOT SHOWWING HOW SECONDARY EDUCATION BOARD AND PERCENTAGE AFFECT SALARY\")\n",
        "plt.show()"
      ],
      "execution_count": 52,
      "outputs": [
        {
          "output_type": "display_data",
          "data": {
            "image/png": "[encoded data removed]",
            "text/plain": [
              "<Figure size 1008x432 with 1 Axes>"
            ]
          },
          "metadata": {
            "tags": [],
            "needs_background": "light"
          }
        }
      ]
    },
    {
      "cell_type": "markdown",
      "metadata": {
        "id": "Jb0SJDTH9Um-",
        "colab_type": "text"
      },
      "source": [
        "* According to the plot, there is no relationship between secondary school board and salary but the students from Central board earn higher \n",
        "* There is also no relationship between secondary school percentage and salary but "
      ]
    },
    {
      "cell_type": "markdown",
      "metadata": {
        "id": "KYj7x8aQv9pv",
        "colab_type": "text"
      },
      "source": [
        "# **THANK YOU FOR VIEWING MY PROJECT!!!**"
      ]
    }
  ]
}